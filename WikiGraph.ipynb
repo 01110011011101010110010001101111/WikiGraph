{
  "nbformat": 4,
  "nbformat_minor": 0,
  "metadata": {
    "colab": {
      "name": "WikiGraph.ipynb",
      "provenance": [],
      "collapsed_sections": [],
      "authorship_tag": "ABX9TyMase3l026kgX3ho9TSZfIy",
      "include_colab_link": true
    },
    "kernelspec": {
      "name": "python3",
      "display_name": "Python 3"
    },
    "language_info": {
      "name": "python"
    }
  },
  "cells": [
    {
      "cell_type": "markdown",
      "metadata": {
        "id": "view-in-github",
        "colab_type": "text"
      },
      "source": [
        "<a href=\"https://colab.research.google.com/github/GenericP3rson/WikiGraph/blob/main/WikiGraph.ipynb\" target=\"_parent\"><img src=\"https://colab.research.google.com/assets/colab-badge.svg\" alt=\"Open In Colab\"/></a>"
      ]
    },
    {
      "cell_type": "markdown",
      "source": [
        "# WikiGraph"
      ],
      "metadata": {
        "id": "YASuC8Xs9KT8"
      }
    },
    {
      "cell_type": "markdown",
      "source": [
        "## Schema Creation"
      ],
      "metadata": {
        "id": "IsFiN-BE9NUX"
      }
    },
    {
      "cell_type": "code",
      "execution_count": null,
      "metadata": {
        "colab": {
          "base_uri": "https://localhost:8080/"
        },
        "id": "U9hY9pVjr4yq",
        "outputId": "a74bac1c-76ac-46de-9d66-189b98d08a53"
      },
      "outputs": [
        {
          "output_type": "stream",
          "name": "stdout",
          "text": [
            "Looking in indexes: https://pypi.org/simple, https://us-python.pkg.dev/colab-wheels/public/simple/\n",
            "Collecting pyTigerGraph[gds]\n",
            "  Downloading pyTigerGraph-0.9-py3-none-any.whl (134 kB)\n",
            "\u001b[K     |████████████████████████████████| 134 kB 5.2 MB/s \n",
            "\u001b[?25hCollecting validators\n",
            "  Downloading validators-0.20.0.tar.gz (30 kB)\n",
            "Requirement already satisfied: requests in /usr/local/lib/python3.7/dist-packages (from pyTigerGraph[gds]) (2.23.0)\n",
            "Collecting pyTigerDriver\n",
            "  Downloading pyTigerDriver-1.0.14-py3-none-any.whl (8.7 kB)\n",
            "Collecting kafka-python\n",
            "  Downloading kafka_python-2.0.2-py2.py3-none-any.whl (246 kB)\n",
            "\u001b[K     |████████████████████████████████| 246 kB 14.8 MB/s \n",
            "\u001b[?25hRequirement already satisfied: pandas in /usr/local/lib/python3.7/dist-packages (from pyTigerGraph[gds]) (1.3.5)\n",
            "Requirement already satisfied: numpy in /usr/local/lib/python3.7/dist-packages (from pyTigerGraph[gds]) (1.21.6)\n",
            "Requirement already satisfied: pytz>=2017.3 in /usr/local/lib/python3.7/dist-packages (from pandas->pyTigerGraph[gds]) (2022.1)\n",
            "Requirement already satisfied: python-dateutil>=2.7.3 in /usr/local/lib/python3.7/dist-packages (from pandas->pyTigerGraph[gds]) (2.8.2)\n",
            "Requirement already satisfied: six>=1.5 in /usr/local/lib/python3.7/dist-packages (from python-dateutil>=2.7.3->pandas->pyTigerGraph[gds]) (1.15.0)\n",
            "Requirement already satisfied: certifi>=2017.4.17 in /usr/local/lib/python3.7/dist-packages (from requests->pyTigerGraph[gds]) (2022.5.18.1)\n",
            "Requirement already satisfied: chardet<4,>=3.0.2 in /usr/local/lib/python3.7/dist-packages (from requests->pyTigerGraph[gds]) (3.0.4)\n",
            "Requirement already satisfied: idna<3,>=2.5 in /usr/local/lib/python3.7/dist-packages (from requests->pyTigerGraph[gds]) (2.10)\n",
            "Requirement already satisfied: urllib3!=1.25.0,!=1.25.1,<1.26,>=1.21.1 in /usr/local/lib/python3.7/dist-packages (from requests->pyTigerGraph[gds]) (1.24.3)\n",
            "Requirement already satisfied: decorator>=3.4.0 in /usr/local/lib/python3.7/dist-packages (from validators->pyTigerGraph[gds]) (4.4.2)\n",
            "Building wheels for collected packages: validators\n",
            "  Building wheel for validators (setup.py) ... \u001b[?25l\u001b[?25hdone\n",
            "  Created wheel for validators: filename=validators-0.20.0-py3-none-any.whl size=19582 sha256=c6b4c03daa448ffa435718ea4b5f18cc9ab2423e05bcff5afb70dd8d53560053\n",
            "  Stored in directory: /root/.cache/pip/wheels/5f/55/ab/36a76989f7f88d9ca7b1f68da6d94252bb6a8d6ad4f18e04e9\n",
            "Successfully built validators\n",
            "Installing collected packages: validators, pyTigerDriver, pyTigerGraph, kafka-python\n",
            "Successfully installed kafka-python-2.0.2 pyTigerDriver-1.0.14 pyTigerGraph-0.9 validators-0.20.0\n"
          ]
        }
      ],
      "source": [
        "!pip install pyTigerGraph[gds]\n",
        "\n",
        "import pyTigerGraph as tg\n",
        "\n",
        "conn = tg.TigerGraphConnection(host = \"https://bleve.i.tgcloud.io/\", graphname = \"YourGraph\")\n",
        "conn.apiToken = conn.getToken(conn.createSecret())"
      ]
    },
    {
      "cell_type": "code",
      "source": [
        "conn.gsql('''\n",
        "CREATE VERTEX Doc(PRIMARY_ID id STRING, content STRING) WITH PRIMARY_ID_AS_ATTRIBUTE = \"true\"\n",
        "CREATE VERTEX Entity(PRIMARY_ID entity STRING) WITH PRIMARY_ID_AS_ATTRIBUTE = \"true\"\n",
        "\n",
        "CREATE DIRECTED EDGE LINKS_TO(FROM Doc, TO DOC, weight DOUBLE)\n",
        "CREATE UNDIRECTED EDGE DOC_ENTITY(FROM Doc, TO ENTITY, weight DOUBLE)\n",
        "\n",
        "CREATE GRAPH WikiGraph(Doc, Entity, LINKS_TO, DOC_ENTITY)\n",
        "''')"
      ],
      "metadata": {
        "id": "juN8jiIp9T0O"
      },
      "execution_count": null,
      "outputs": []
    },
    {
      "cell_type": "markdown",
      "source": [
        "## Load Data"
      ],
      "metadata": {
        "id": "TFJyckw5-MbJ"
      }
    },
    {
      "cell_type": "code",
      "source": [
        "import requests\n",
        "from bs4 import BeautifulSoup\n",
        "import spacy\n",
        "\n",
        "# Text cleaning, entity extraction, sentiment analysis, summarisation\n",
        "# Graph structures\n",
        "\n",
        "nlp = spacy.load(\"en_core_web_sm\")\n",
        "\n",
        "seen = []\n",
        "\n",
        "def scrape(input_link):\n",
        "\n",
        "  response = requests.get(\n",
        "    url = input_link,\n",
        "  )\n",
        "  soup = BeautifulSoup(response.content, 'html.parser')\n",
        "\n",
        "  first_paragraph = soup.find('p')\n",
        "\n",
        "  while first_paragraph.get_text().strip() == \"\":\n",
        "    first_paragraph = first_paragraph.find_next_sibling('p')\n",
        "\n",
        "  conn.upsertVertex(\"Doc\", input_link, attributes={\"id\": input_link, \"content\": first_paragraph.get_text()})\n",
        "\n",
        "  ent = nlp(first_paragraph.get_text())\n",
        "  \n",
        "  for e in ent:\n",
        "    conn.upsertVertex(\"Entity\", str(e), attributes={\"entity\": str(e)})\n",
        "    conn.upsertEdge(\"Doc\", input_link, \"DOC_ENTITY\", \"Entity\", str(e))\n",
        "\n",
        "  seen.append(input_link)\n",
        "\n",
        "  links = [f\"https://en.wikipedia.org{link['href']}\" for link in first_paragraph.find_all(\"a\") if link.has_attr(\"href\") and link[\"href\"][:6] == \"/wiki/\"]\n",
        "  for link in links:\n",
        "    conn.upsertEdge(\"Doc\", input_link, \"LINKS_TO\", \"Doc\", link)\n",
        "    if link not in seen:\n",
        "      scrape(link)\n",
        "\n",
        "33scrape(\"https://en.wikipedia.org/wiki/Python_(programming_language)\")"
      ],
      "metadata": {
        "colab": {
          "base_uri": "https://localhost:8080/"
        },
        "id": "O5TVhybEyHzM",
        "outputId": "d519c00a-f88c-4890-8e87-aec048b603c5"
      },
      "execution_count": null,
      "outputs": [
        {
          "metadata": {
            "tags": null
          },
          "name": "stderr",
          "output_type": "stream",
          "text": [
            "/usr/local/lib/python3.7/dist-packages/catalogue.py:138: DeprecationWarning: SelectableGroups dict interface is deprecated. Use select.\n",
            "  for entry_point in AVAILABLE_ENTRY_POINTS.get(self.entry_point_namespace, []):\n",
            "/usr/local/lib/python3.7/dist-packages/catalogue.py:126: DeprecationWarning: SelectableGroups dict interface is deprecated. Use select.\n",
            "  for entry_point in AVAILABLE_ENTRY_POINTS.get(self.entry_point_namespace, []):\n"
          ]
        }
      ]
    },
    {
      "cell_type": "markdown",
      "source": [
        "## Queries"
      ],
      "metadata": {
        "id": "I7OU6xuV-w_U"
      }
    },
    {
      "cell_type": "code",
      "source": [
        "import spacy \n",
        "nlp = spacy.load(\"en_core_web_sm\")\n",
        "\n",
        "search = \"graph database\"\n",
        "terms = nlp(search)\n",
        "\n",
        "conn.upsertVertex(\"Doc\", \"search_doc\", attributes = {\"id\": \"search_doc\", \"content\": search})\n",
        "for i in terms:\n",
        "  conn.upsertEdge(\"Doc\", \"search_doc\", \"DOC_ENTITY\", \"Entity\", str(i))\n",
        "\n",
        "conn.runInstalledQuery(\"tg_jaccard_nbor_ss\", params = {\"source\": (\"search_doc\", \"Doc\"), \"e_type\": \"DOC_ENTITY\", \"rev_e_type\": \"DOC_ENTITY\"})\n",
        "\n",
        "conn.deleteVertex(\"Doc\", \"search_doc\")"
      ],
      "metadata": {
        "colab": {
          "base_uri": "https://localhost:8080/"
        },
        "id": "dpH4gGpU1Sbf",
        "outputId": "09062737-19d6-4b10-d258-e88a80d5964a"
      },
      "execution_count": null,
      "outputs": [
        {
          "output_type": "stream",
          "name": "stderr",
          "text": [
            "/usr/local/lib/python3.7/dist-packages/catalogue.py:138: DeprecationWarning: SelectableGroups dict interface is deprecated. Use select.\n",
            "  for entry_point in AVAILABLE_ENTRY_POINTS.get(self.entry_point_namespace, []):\n",
            "/usr/local/lib/python3.7/dist-packages/catalogue.py:126: DeprecationWarning: SelectableGroups dict interface is deprecated. Use select.\n",
            "  for entry_point in AVAILABLE_ENTRY_POINTS.get(self.entry_point_namespace, []):\n"
          ]
        },
        {
          "output_type": "execute_result",
          "data": {
            "text/plain": [
              "[{'Others': [{'attributes': {'Others.@sum_similarity': 0.025},\n",
              "    'v_id': 'https://en.wikipedia.org/wiki/Graph_database',\n",
              "    'v_type': 'Doc'}]}]"
            ]
          },
          "metadata": {},
          "execution_count": 10
        }
      ]
    }
  ]
}
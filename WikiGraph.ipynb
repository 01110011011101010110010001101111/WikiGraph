{
  "nbformat": 4,
  "nbformat_minor": 0,
  "metadata": {
    "colab": {
      "name": "WikiGraph.ipynb",
      "provenance": [],
      "collapsed_sections": [
        "IsFiN-BE9NUX",
        "I7OU6xuV-w_U"
      ],
      "authorship_tag": "ABX9TyPXBJEvKLM1iAa1vNx2M6ma",
      "include_colab_link": true
    },
    "kernelspec": {
      "name": "python3",
      "display_name": "Python 3"
    },
    "language_info": {
      "name": "python"
    }
  },
  "cells": [
    {
      "cell_type": "markdown",
      "metadata": {
        "id": "view-in-github",
        "colab_type": "text"
      },
      "source": [
        "<a href=\"https://colab.research.google.com/github/GenericP3rson/WikiGraph/blob/main/WikiGraph.ipynb\" target=\"_parent\"><img src=\"https://colab.research.google.com/assets/colab-badge.svg\" alt=\"Open In Colab\"/></a>"
      ]
    },
    {
      "cell_type": "markdown",
      "source": [
        "# WikiGraph"
      ],
      "metadata": {
        "id": "YASuC8Xs9KT8"
      }
    },
    {
      "cell_type": "markdown",
      "source": [
        "## Schema Creation"
      ],
      "metadata": {
        "id": "IsFiN-BE9NUX"
      }
    },
    {
      "cell_type": "code",
      "execution_count": 11,
      "metadata": {
        "colab": {
          "base_uri": "https://localhost:8080/"
        },
        "id": "U9hY9pVjr4yq",
        "outputId": "03972325-49df-4d74-f29a-36fa372c743a"
      },
      "outputs": [
        {
          "output_type": "stream",
          "name": "stdout",
          "text": [
            "Looking in indexes: https://pypi.org/simple, https://us-python.pkg.dev/colab-wheels/public/simple/\n",
            "Requirement already satisfied: pyTigerGraph[gds] in /usr/local/lib/python3.7/dist-packages (0.9)\n",
            "Requirement already satisfied: pyTigerDriver in /usr/local/lib/python3.7/dist-packages (from pyTigerGraph[gds]) (1.0.14)\n",
            "Requirement already satisfied: validators in /usr/local/lib/python3.7/dist-packages (from pyTigerGraph[gds]) (0.20.0)\n",
            "Requirement already satisfied: requests in /usr/local/lib/python3.7/dist-packages (from pyTigerGraph[gds]) (2.23.0)\n",
            "Requirement already satisfied: kafka-python in /usr/local/lib/python3.7/dist-packages (from pyTigerGraph[gds]) (2.0.2)\n",
            "Requirement already satisfied: numpy in /usr/local/lib/python3.7/dist-packages (from pyTigerGraph[gds]) (1.21.6)\n",
            "Requirement already satisfied: pandas in /usr/local/lib/python3.7/dist-packages (from pyTigerGraph[gds]) (1.3.5)\n",
            "Requirement already satisfied: pytz>=2017.3 in /usr/local/lib/python3.7/dist-packages (from pandas->pyTigerGraph[gds]) (2022.1)\n",
            "Requirement already satisfied: python-dateutil>=2.7.3 in /usr/local/lib/python3.7/dist-packages (from pandas->pyTigerGraph[gds]) (2.8.2)\n",
            "Requirement already satisfied: six>=1.5 in /usr/local/lib/python3.7/dist-packages (from python-dateutil>=2.7.3->pandas->pyTigerGraph[gds]) (1.15.0)\n",
            "Requirement already satisfied: chardet<4,>=3.0.2 in /usr/local/lib/python3.7/dist-packages (from requests->pyTigerGraph[gds]) (3.0.4)\n",
            "Requirement already satisfied: idna<3,>=2.5 in /usr/local/lib/python3.7/dist-packages (from requests->pyTigerGraph[gds]) (2.10)\n",
            "Requirement already satisfied: urllib3!=1.25.0,!=1.25.1,<1.26,>=1.21.1 in /usr/local/lib/python3.7/dist-packages (from requests->pyTigerGraph[gds]) (1.24.3)\n",
            "Requirement already satisfied: certifi>=2017.4.17 in /usr/local/lib/python3.7/dist-packages (from requests->pyTigerGraph[gds]) (2022.5.18.1)\n",
            "Requirement already satisfied: decorator>=3.4.0 in /usr/local/lib/python3.7/dist-packages (from validators->pyTigerGraph[gds]) (4.4.2)\n"
          ]
        }
      ],
      "source": [
        "!pip install pyTigerGraph[gds]\n",
        "\n",
        "import pyTigerGraph as tg\n",
        "\n",
        "conn = tg.TigerGraphConnection(host = \"https://wikigraph.i.tgcloud.io/\")"
      ]
    },
    {
      "cell_type": "code",
      "source": [
        "conn.gsql('''\n",
        "USE GLOBAL\n",
        "\n",
        "CREATE VERTEX Doc(PRIMARY_ID id STRING, title STRING, content STRING) WITH PRIMARY_ID_AS_ATTRIBUTE = \"true\"\n",
        "CREATE VERTEX Entity(PRIMARY_ID entity STRING) WITH PRIMARY_ID_AS_ATTRIBUTE = \"true\"\n",
        "\n",
        "CREATE DIRECTED EDGE LINKS_TO(FROM Doc, TO Doc, weight DOUBLE)\n",
        "CREATE UNDIRECTED EDGE DOC_ENTITY(FROM Doc, TO Entity, weight DOUBLE)\n",
        "\n",
        "CREATE GRAPH WikiGraph(Doc, Entity, LINKS_TO, DOC_ENTITY)\n",
        "''')"
      ],
      "metadata": {
        "id": "juN8jiIp9T0O",
        "colab": {
          "base_uri": "https://localhost:8080/",
          "height": 71
        },
        "outputId": "4232fcb0-4440-4e48-b814-678b2a1f1132"
      },
      "execution_count": 12,
      "outputs": [
        {
          "output_type": "execute_result",
          "data": {
            "text/plain": [
              "'Successfully created vertex types: [Doc].\\nSuccessfully created vertex types: [Entity].\\nSuccessfully created edge types: [LINKS_TO].\\nSuccessfully created edge types: [DOC_ENTITY].\\nStopping GPE GSE RESTPP\\nSuccessfully stopped GPE GSE RESTPP in 25.757 seconds\\nStarting GPE GSE RESTPP\\nSuccessfully started GPE GSE RESTPP in 0.097 seconds\\nThe graph WikiGraph is created.'"
            ],
            "application/vnd.google.colaboratory.intrinsic+json": {
              "type": "string"
            }
          },
          "metadata": {},
          "execution_count": 12
        }
      ]
    },
    {
      "cell_type": "code",
      "source": [
        "conn.graphname = \"WikiGraph\"\n",
        "conn.apiToken = conn.getToken(conn.createSecret())"
      ],
      "metadata": {
        "id": "viF2namav8qo"
      },
      "execution_count": 13,
      "outputs": []
    },
    {
      "cell_type": "markdown",
      "source": [
        "## Load Data"
      ],
      "metadata": {
        "id": "TFJyckw5-MbJ"
      }
    },
    {
      "cell_type": "code",
      "source": [
        "!pip install yake"
      ],
      "metadata": {
        "id": "cDbxdqjEBLu2"
      },
      "execution_count": null,
      "outputs": []
    },
    {
      "cell_type": "code",
      "source": [
        "import requests\n",
        "from bs4 import BeautifulSoup\n",
        "import yake\n",
        "from collections import Counter\n",
        "\n",
        "# Text cleaning, entity extraction, sentiment analysis, summarisation\n",
        "# Graph structures\n",
        "\n",
        "seen = []\n",
        "\n",
        "def scrape(input_link):\n",
        "\n",
        "  print(input_link)\n",
        "\n",
        "  response = requests.get(\n",
        "    url = input_link,\n",
        "  )\n",
        "  soup = BeautifulSoup(response.content, 'html.parser')\n",
        "\n",
        "  first_paragraph = soup.find('p')\n",
        "\n",
        "  if first_paragraph == None:\n",
        "    return \n",
        "\n",
        "  while first_paragraph == None or first_paragraph.get_text().strip() == \"\":\n",
        "    first_paragraph = first_paragraph.find_next_sibling('p')\n",
        "\n",
        "  conn.upsertVertex(\"Doc\", input_link, attributes={\"id\": input_link, \"title\": soup.find(\"h1\").get_text(), \"content\": first_paragraph.get_text()})\n",
        "\n",
        "  text = (\"\\n\".join([''.join(i.get_text().split('\\n')) for i in soup.find_all(\"p\")]))\n",
        "\n",
        "  kw_extractor = yake.KeywordExtractor()\n",
        "  keywords = kw_extractor.extract_keywords(text)\n",
        "  \n",
        "  for word, score in keywords:\n",
        "    conn.upsertVertex(\"Entity\", word, attributes={\"entity\": word})\n",
        "    conn.upsertEdge(\"Doc\", input_link, \"DOC_ENTITY\", \"Entity\", word, {\"weight\": float(1-score)})\n",
        "\n",
        "  seen.append(input_link)\n",
        "\n",
        "  links = [f\"https://en.wikipedia.org{link['href'].split('#')[0]}\" for link in soup.find_all(\"a\") if link.has_attr(\"href\") and link[\"href\"][:6] == \"/wiki/\" and not \":\" in link[\"href\"]]\n",
        "  tot_links = len(links)\n",
        "\n",
        "  count = Counter(links)\n",
        "  for link in links:\n",
        "    conn.upsertEdge(\"Doc\", input_link, \"LINKS_TO\", \"Doc\", link, {\"weight\": float(count[link]/tot_links)})\n",
        "    if link not in seen:\n",
        "      scrape(link)\n",
        "\n",
        "scrape(\"https://en.wikipedia.org/wiki/Graph_database\")"
      ],
      "metadata": {
        "id": "3X3dF1o-t-sn"
      },
      "execution_count": null,
      "outputs": []
    },
    {
      "cell_type": "markdown",
      "source": [
        "## Queries"
      ],
      "metadata": {
        "id": "I7OU6xuV-w_U"
      }
    },
    {
      "cell_type": "code",
      "source": [
        "f = conn.gds.featurizer()\n",
        "\n",
        "f.installAlgorithm(\"tg_pagerank_wt\")\n",
        "f.installAlgorithm(\"tg_article_rank\")"
      ],
      "metadata": {
        "id": "dpH4gGpU1Sbf",
        "colab": {
          "base_uri": "https://localhost:8080/",
          "height": 71
        },
        "outputId": "0abac488-f146-4c30-999b-1ca27c9d7635"
      },
      "execution_count": 16,
      "outputs": [
        {
          "output_type": "stream",
          "name": "stdout",
          "text": [
            "Installing and optimizing the queries, it might take a minute\n",
            "Installing and optimizing the queries, it might take a minute\n"
          ]
        },
        {
          "output_type": "execute_result",
          "data": {
            "text/plain": [
              "'tg_article_rank'"
            ],
            "application/vnd.google.colaboratory.intrinsic+json": {
              "type": "string"
            }
          },
          "metadata": {},
          "execution_count": 16
        }
      ]
    }
  ]
}